{
  "nbformat": 4,
  "nbformat_minor": 0,
  "metadata": {
    "kernelspec": {
      "display_name": "Python 3",
      "language": "python",
      "name": "python3"
    },
    "language_info": {
      "codemirror_mode": {
        "name": "ipython",
        "version": 3
      },
      "file_extension": ".py",
      "mimetype": "text/x-python",
      "name": "python",
      "nbconvert_exporter": "python",
      "pygments_lexer": "ipython3",
      "version": "3.8.3"
    },
    "colab": {
      "name": "pcs5024-atividade02.ipynb",
      "provenance": [],
      "toc_visible": true,
      "include_colab_link": true
    }
  },
  "cells": [
    {
      "cell_type": "markdown",
      "metadata": {
        "id": "view-in-github",
        "colab_type": "text"
      },
      "source": [
        "<a href=\"https://colab.research.google.com/github/diogocrlopes/PCS5024/blob/main/pcs5024-atividade03.ipynb\" target=\"_parent\"><img src=\"https://colab.research.google.com/assets/colab-badge.svg\" alt=\"Open In Colab\"/></a>"
      ]
    },
    {
      "cell_type": "code",
      "metadata": {
        "pycharm": {
          "name": "#%% Get the Data Set\n"
        },
        "colab": {
          "base_uri": "https://localhost:8080/",
          "height": 0
        },
        "id": "-d3Iz3H0aB4r",
        "outputId": "3fa217bf-58f0-4876-bcf2-9403238d04f1"
      },
      "source": [
        "#Atividade\n",
        "!pip install scikit-learn==0.23.0"
      ],
      "execution_count": 1,
      "outputs": [
        {
          "output_type": "stream",
          "text": [
            "Requirement already satisfied: scikit-learn==0.23.0 in /usr/local/lib/python3.7/dist-packages (0.23.0)\n",
            "Requirement already satisfied: numpy>=1.13.3 in /usr/local/lib/python3.7/dist-packages (from scikit-learn==0.23.0) (1.19.5)\n",
            "Requirement already satisfied: threadpoolctl>=2.0.0 in /usr/local/lib/python3.7/dist-packages (from scikit-learn==0.23.0) (2.1.0)\n",
            "Requirement already satisfied: scipy>=0.19.1 in /usr/local/lib/python3.7/dist-packages (from scikit-learn==0.23.0) (1.4.1)\n",
            "Requirement already satisfied: joblib>=0.11 in /usr/local/lib/python3.7/dist-packages (from scikit-learn==0.23.0) (1.0.1)\n"
          ],
          "name": "stdout"
        }
      ]
    },
    {
      "cell_type": "markdown",
      "metadata": {
        "id": "bgDavZQqSte0"
      },
      "source": [
        "# Tratamento dos dados"
      ]
    },
    {
      "cell_type": "code",
      "metadata": {
        "id": "y7ispZ_yaB4s"
      },
      "source": [
        "#importacao das bibliotecas\n",
        "import pandas as pd\n",
        "import numpy as np\n",
        "import seaborn as sns\n",
        "import matplotlib.pyplot as plt\n",
        "%matplotlib inline\n",
        "\n",
        "import sklearn\n",
        "\n",
        "from sklearn.model_selection import train_test_split\n",
        "\n",
        "from sklearn.linear_model import LogisticRegression\n",
        "\n"
      ],
      "execution_count": 2,
      "outputs": []
    },
    {
      "cell_type": "code",
      "metadata": {
        "id": "fdriG_z3aB4t"
      },
      "source": [
        "\n",
        "from numpy.ma import MaskedArray\n",
        "import sklearn.utils.fixes\n",
        "\n",
        "sklearn.utils.fixes.MaskedArray = MaskedArray"
      ],
      "execution_count": 3,
      "outputs": []
    },
    {
      "cell_type": "markdown",
      "metadata": {
        "pycharm": {
          "name": "#%% md\n"
        },
        "id": "yFRzN9cWaB4u"
      },
      "source": [
        "1. Importando a base de dados"
      ]
    },
    {
      "cell_type": "code",
      "metadata": {
        "colab": {
          "base_uri": "https://localhost:8080/",
          "height": 204
        },
        "id": "n_IQRRg1aB4v",
        "outputId": "66129a34-9e1b-4991-c49a-286b2da12f9f"
      },
      "source": [
        "#importação da base de dados\n",
        "\n",
        "#dados de treino\n",
        "train = pd.read_csv(\"adult.csv\", na_values = \"?\")\n",
        "train.head()"
      ],
      "execution_count": 51,
      "outputs": [
        {
          "output_type": "execute_result",
          "data": {
            "text/html": [
              "<div>\n",
              "<style scoped>\n",
              "    .dataframe tbody tr th:only-of-type {\n",
              "        vertical-align: middle;\n",
              "    }\n",
              "\n",
              "    .dataframe tbody tr th {\n",
              "        vertical-align: top;\n",
              "    }\n",
              "\n",
              "    .dataframe thead th {\n",
              "        text-align: right;\n",
              "    }\n",
              "</style>\n",
              "<table border=\"1\" class=\"dataframe\">\n",
              "  <thead>\n",
              "    <tr style=\"text-align: right;\">\n",
              "      <th></th>\n",
              "      <th>age</th>\n",
              "      <th>workclass</th>\n",
              "      <th>fnlwgt</th>\n",
              "      <th>education</th>\n",
              "      <th>education.num</th>\n",
              "      <th>marital.status</th>\n",
              "      <th>occupation</th>\n",
              "      <th>relationship</th>\n",
              "      <th>race</th>\n",
              "      <th>sex</th>\n",
              "      <th>capital.gain</th>\n",
              "      <th>capital.loss</th>\n",
              "      <th>hours.per.week</th>\n",
              "      <th>native.country</th>\n",
              "      <th>income</th>\n",
              "    </tr>\n",
              "  </thead>\n",
              "  <tbody>\n",
              "    <tr>\n",
              "      <th>0</th>\n",
              "      <td>90</td>\n",
              "      <td>NaN</td>\n",
              "      <td>77053</td>\n",
              "      <td>HS-grad</td>\n",
              "      <td>9</td>\n",
              "      <td>Widowed</td>\n",
              "      <td>NaN</td>\n",
              "      <td>Not-in-family</td>\n",
              "      <td>White</td>\n",
              "      <td>Female</td>\n",
              "      <td>0</td>\n",
              "      <td>4356</td>\n",
              "      <td>40</td>\n",
              "      <td>United-States</td>\n",
              "      <td>&lt;=50K</td>\n",
              "    </tr>\n",
              "    <tr>\n",
              "      <th>1</th>\n",
              "      <td>82</td>\n",
              "      <td>Private</td>\n",
              "      <td>132870</td>\n",
              "      <td>HS-grad</td>\n",
              "      <td>9</td>\n",
              "      <td>Widowed</td>\n",
              "      <td>Exec-managerial</td>\n",
              "      <td>Not-in-family</td>\n",
              "      <td>White</td>\n",
              "      <td>Female</td>\n",
              "      <td>0</td>\n",
              "      <td>4356</td>\n",
              "      <td>18</td>\n",
              "      <td>United-States</td>\n",
              "      <td>&lt;=50K</td>\n",
              "    </tr>\n",
              "    <tr>\n",
              "      <th>2</th>\n",
              "      <td>66</td>\n",
              "      <td>NaN</td>\n",
              "      <td>186061</td>\n",
              "      <td>Some-college</td>\n",
              "      <td>10</td>\n",
              "      <td>Widowed</td>\n",
              "      <td>NaN</td>\n",
              "      <td>Unmarried</td>\n",
              "      <td>Black</td>\n",
              "      <td>Female</td>\n",
              "      <td>0</td>\n",
              "      <td>4356</td>\n",
              "      <td>40</td>\n",
              "      <td>United-States</td>\n",
              "      <td>&lt;=50K</td>\n",
              "    </tr>\n",
              "    <tr>\n",
              "      <th>3</th>\n",
              "      <td>54</td>\n",
              "      <td>Private</td>\n",
              "      <td>140359</td>\n",
              "      <td>7th-8th</td>\n",
              "      <td>4</td>\n",
              "      <td>Divorced</td>\n",
              "      <td>Machine-op-inspct</td>\n",
              "      <td>Unmarried</td>\n",
              "      <td>White</td>\n",
              "      <td>Female</td>\n",
              "      <td>0</td>\n",
              "      <td>3900</td>\n",
              "      <td>40</td>\n",
              "      <td>United-States</td>\n",
              "      <td>&lt;=50K</td>\n",
              "    </tr>\n",
              "    <tr>\n",
              "      <th>4</th>\n",
              "      <td>41</td>\n",
              "      <td>Private</td>\n",
              "      <td>264663</td>\n",
              "      <td>Some-college</td>\n",
              "      <td>10</td>\n",
              "      <td>Separated</td>\n",
              "      <td>Prof-specialty</td>\n",
              "      <td>Own-child</td>\n",
              "      <td>White</td>\n",
              "      <td>Female</td>\n",
              "      <td>0</td>\n",
              "      <td>3900</td>\n",
              "      <td>40</td>\n",
              "      <td>United-States</td>\n",
              "      <td>&lt;=50K</td>\n",
              "    </tr>\n",
              "  </tbody>\n",
              "</table>\n",
              "</div>"
            ],
            "text/plain": [
              "   age workclass  fnlwgt  ... hours.per.week  native.country income\n",
              "0   90       NaN   77053  ...             40   United-States  <=50K\n",
              "1   82   Private  132870  ...             18   United-States  <=50K\n",
              "2   66       NaN  186061  ...             40   United-States  <=50K\n",
              "3   54   Private  140359  ...             40   United-States  <=50K\n",
              "4   41   Private  264663  ...             40   United-States  <=50K\n",
              "\n",
              "[5 rows x 15 columns]"
            ]
          },
          "metadata": {
            "tags": []
          },
          "execution_count": 51
        }
      ]
    },
    {
      "cell_type": "code",
      "metadata": {
        "colab": {
          "base_uri": "https://localhost:8080/",
          "height": 0
        },
        "id": "0RqFBpXeaB4v",
        "outputId": "ce2c3bab-cca2-40ef-8cd5-0d99e7870af0"
      },
      "source": [
        "train.info()"
      ],
      "execution_count": 52,
      "outputs": [
        {
          "output_type": "stream",
          "text": [
            "<class 'pandas.core.frame.DataFrame'>\n",
            "RangeIndex: 32561 entries, 0 to 32560\n",
            "Data columns (total 15 columns):\n",
            " #   Column          Non-Null Count  Dtype \n",
            "---  ------          --------------  ----- \n",
            " 0   age             32561 non-null  int64 \n",
            " 1   workclass       30725 non-null  object\n",
            " 2   fnlwgt          32561 non-null  int64 \n",
            " 3   education       32561 non-null  object\n",
            " 4   education.num   32561 non-null  int64 \n",
            " 5   marital.status  32561 non-null  object\n",
            " 6   occupation      30718 non-null  object\n",
            " 7   relationship    32561 non-null  object\n",
            " 8   race            32561 non-null  object\n",
            " 9   sex             32561 non-null  object\n",
            " 10  capital.gain    32561 non-null  int64 \n",
            " 11  capital.loss    32561 non-null  int64 \n",
            " 12  hours.per.week  32561 non-null  int64 \n",
            " 13  native.country  31978 non-null  object\n",
            " 14  income          32561 non-null  object\n",
            "dtypes: int64(6), object(9)\n",
            "memory usage: 3.7+ MB\n"
          ],
          "name": "stdout"
        }
      ]
    },
    {
      "cell_type": "code",
      "metadata": {
        "colab": {
          "base_uri": "https://localhost:8080/",
          "height": 297
        },
        "id": "9HhciaYJaB4w",
        "outputId": "f0d441cc-bd3a-444e-a245-f5a35d2bbb86"
      },
      "source": [
        "train.describe()"
      ],
      "execution_count": 53,
      "outputs": [
        {
          "output_type": "execute_result",
          "data": {
            "text/html": [
              "<div>\n",
              "<style scoped>\n",
              "    .dataframe tbody tr th:only-of-type {\n",
              "        vertical-align: middle;\n",
              "    }\n",
              "\n",
              "    .dataframe tbody tr th {\n",
              "        vertical-align: top;\n",
              "    }\n",
              "\n",
              "    .dataframe thead th {\n",
              "        text-align: right;\n",
              "    }\n",
              "</style>\n",
              "<table border=\"1\" class=\"dataframe\">\n",
              "  <thead>\n",
              "    <tr style=\"text-align: right;\">\n",
              "      <th></th>\n",
              "      <th>age</th>\n",
              "      <th>fnlwgt</th>\n",
              "      <th>education.num</th>\n",
              "      <th>capital.gain</th>\n",
              "      <th>capital.loss</th>\n",
              "      <th>hours.per.week</th>\n",
              "    </tr>\n",
              "  </thead>\n",
              "  <tbody>\n",
              "    <tr>\n",
              "      <th>count</th>\n",
              "      <td>32561.000000</td>\n",
              "      <td>3.256100e+04</td>\n",
              "      <td>32561.000000</td>\n",
              "      <td>32561.000000</td>\n",
              "      <td>32561.000000</td>\n",
              "      <td>32561.000000</td>\n",
              "    </tr>\n",
              "    <tr>\n",
              "      <th>mean</th>\n",
              "      <td>38.581647</td>\n",
              "      <td>1.897784e+05</td>\n",
              "      <td>10.080679</td>\n",
              "      <td>1077.648844</td>\n",
              "      <td>87.303830</td>\n",
              "      <td>40.437456</td>\n",
              "    </tr>\n",
              "    <tr>\n",
              "      <th>std</th>\n",
              "      <td>13.640433</td>\n",
              "      <td>1.055500e+05</td>\n",
              "      <td>2.572720</td>\n",
              "      <td>7385.292085</td>\n",
              "      <td>402.960219</td>\n",
              "      <td>12.347429</td>\n",
              "    </tr>\n",
              "    <tr>\n",
              "      <th>min</th>\n",
              "      <td>17.000000</td>\n",
              "      <td>1.228500e+04</td>\n",
              "      <td>1.000000</td>\n",
              "      <td>0.000000</td>\n",
              "      <td>0.000000</td>\n",
              "      <td>1.000000</td>\n",
              "    </tr>\n",
              "    <tr>\n",
              "      <th>25%</th>\n",
              "      <td>28.000000</td>\n",
              "      <td>1.178270e+05</td>\n",
              "      <td>9.000000</td>\n",
              "      <td>0.000000</td>\n",
              "      <td>0.000000</td>\n",
              "      <td>40.000000</td>\n",
              "    </tr>\n",
              "    <tr>\n",
              "      <th>50%</th>\n",
              "      <td>37.000000</td>\n",
              "      <td>1.783560e+05</td>\n",
              "      <td>10.000000</td>\n",
              "      <td>0.000000</td>\n",
              "      <td>0.000000</td>\n",
              "      <td>40.000000</td>\n",
              "    </tr>\n",
              "    <tr>\n",
              "      <th>75%</th>\n",
              "      <td>48.000000</td>\n",
              "      <td>2.370510e+05</td>\n",
              "      <td>12.000000</td>\n",
              "      <td>0.000000</td>\n",
              "      <td>0.000000</td>\n",
              "      <td>45.000000</td>\n",
              "    </tr>\n",
              "    <tr>\n",
              "      <th>max</th>\n",
              "      <td>90.000000</td>\n",
              "      <td>1.484705e+06</td>\n",
              "      <td>16.000000</td>\n",
              "      <td>99999.000000</td>\n",
              "      <td>4356.000000</td>\n",
              "      <td>99.000000</td>\n",
              "    </tr>\n",
              "  </tbody>\n",
              "</table>\n",
              "</div>"
            ],
            "text/plain": [
              "                age        fnlwgt  ...  capital.loss  hours.per.week\n",
              "count  32561.000000  3.256100e+04  ...  32561.000000    32561.000000\n",
              "mean      38.581647  1.897784e+05  ...     87.303830       40.437456\n",
              "std       13.640433  1.055500e+05  ...    402.960219       12.347429\n",
              "min       17.000000  1.228500e+04  ...      0.000000        1.000000\n",
              "25%       28.000000  1.178270e+05  ...      0.000000       40.000000\n",
              "50%       37.000000  1.783560e+05  ...      0.000000       40.000000\n",
              "75%       48.000000  2.370510e+05  ...      0.000000       45.000000\n",
              "max       90.000000  1.484705e+06  ...   4356.000000       99.000000\n",
              "\n",
              "[8 rows x 6 columns]"
            ]
          },
          "metadata": {
            "tags": []
          },
          "execution_count": 53
        }
      ]
    },
    {
      "cell_type": "markdown",
      "metadata": {
        "pycharm": {
          "name": "#%% md\n"
        },
        "id": "yVWWW4okaB4x"
      },
      "source": [
        "2. Ajustando a base de dados/ Limpeza dos dados"
      ]
    },
    {
      "cell_type": "code",
      "metadata": {
        "id": "O0vr5IXSaB4x"
      },
      "source": [
        "from sklearn.preprocessing import LabelEncoder"
      ],
      "execution_count": 54,
      "outputs": []
    },
    {
      "cell_type": "code",
      "metadata": {
        "id": "ST7tAfxlaB4y"
      },
      "source": [
        "le = LabelEncoder()"
      ],
      "execution_count": 55,
      "outputs": []
    },
    {
      "cell_type": "code",
      "metadata": {
        "colab": {
          "base_uri": "https://localhost:8080/",
          "height": 0
        },
        "id": "clNz1EGvaB4z",
        "outputId": "b04392d3-9573-415b-df83-2cdfc7e7f265"
      },
      "source": [
        "train['income'] = le.fit_transform(train['income'])\n",
        "train['income']"
      ],
      "execution_count": 56,
      "outputs": [
        {
          "output_type": "execute_result",
          "data": {
            "text/plain": [
              "0        0\n",
              "1        0\n",
              "2        0\n",
              "3        0\n",
              "4        0\n",
              "        ..\n",
              "32556    0\n",
              "32557    0\n",
              "32558    1\n",
              "32559    0\n",
              "32560    0\n",
              "Name: income, Length: 32561, dtype: int64"
            ]
          },
          "metadata": {
            "tags": []
          },
          "execution_count": 56
        }
      ]
    },
    {
      "cell_type": "code",
      "metadata": {
        "colab": {
          "base_uri": "https://localhost:8080/",
          "height": 613
        },
        "id": "NugQUWSkaB40",
        "outputId": "a5c9fea9-69f3-4126-b0db-e6834b4a3717"
      },
      "source": [
        "plt.figure(figsize=(10,10))\n",
        "\n",
        "mask = np.triu(np.ones_like(train.corr(), dtype = bool))\n",
        "sns.heatmap(train.corr(), mask = mask, square = True, annot = True, vmin=-1, vmax=1, cmap='autumn')\n",
        "\n",
        "plt.show()"
      ],
      "execution_count": 57,
      "outputs": [
        {
          "output_type": "display_data",
          "data": {
            "image/png": "[encoded data removed]",
            "text/plain": [
              "<Figure size 720x720 with 2 Axes>"
            ]
          },
          "metadata": {
            "tags": [],
            "needs_background": "light"
          }
        }
      ]
    },
    {
      "cell_type": "code",
      "metadata": {
        "colab": {
          "base_uri": "https://localhost:8080/",
          "height": 296
        },
        "id": "uxhiJkS_aB40",
        "outputId": "fdd907a3-62e8-4dd9-f6ff-525b8bd9005e"
      },
      "source": [
        "sns.distplot(train['age'])"
      ],
      "execution_count": 58,
      "outputs": [
        {
          "output_type": "execute_result",
          "data": {
            "text/plain": [
              "<matplotlib.axes._subplots.AxesSubplot at 0x7f231591dbd0>"
            ]
          },
          "metadata": {
            "tags": []
          },
          "execution_count": 58
        },
        {
          "output_type": "display_data",
          "data": {
            "image/png": "[encoded data removed]",
            "text/plain": [
              "<Figure size 432x288 with 1 Axes>"
            ]
          },
          "metadata": {
            "tags": [],
            "needs_background": "light"
          }
        }
      ]
    },
    {
      "cell_type": "code",
      "metadata": {
        "colab": {
          "base_uri": "https://localhost:8080/",
          "height": 0
        },
        "id": "GxBoIdqsaB41",
        "outputId": "fc32dc52-caab-41b7-b807-1e76d42bf348"
      },
      "source": [
        "train.shape"
      ],
      "execution_count": 59,
      "outputs": [
        {
          "output_type": "execute_result",
          "data": {
            "text/plain": [
              "(32561, 15)"
            ]
          },
          "metadata": {
            "tags": []
          },
          "execution_count": 59
        }
      ]
    },
    {
      "cell_type": "code",
      "metadata": {
        "id": "N9oY7SF9aB41"
      },
      "source": [
        "train.drop_duplicates(keep='first', inplace = True)"
      ],
      "execution_count": 60,
      "outputs": []
    },
    {
      "cell_type": "code",
      "metadata": {
        "colab": {
          "base_uri": "https://localhost:8080/",
          "height": 0
        },
        "id": "lxQQUslWaB42",
        "outputId": "36cbf583-438a-4c53-b901-000463b5ea38"
      },
      "source": [
        "train.shape"
      ],
      "execution_count": 61,
      "outputs": [
        {
          "output_type": "execute_result",
          "data": {
            "text/plain": [
              "(32537, 15)"
            ]
          },
          "metadata": {
            "tags": []
          },
          "execution_count": 61
        }
      ]
    },
    {
      "cell_type": "code",
      "metadata": {
        "colab": {
          "base_uri": "https://localhost:8080/",
          "height": 204
        },
        "id": "N7rz6o7yaB42",
        "outputId": "b55759a7-a3a9-46fb-83f9-8db4dcdd8337"
      },
      "source": [
        "#Falar do motivo de tirar essas classes\n",
        "train = train.drop(['fnlwgt', 'native.country','education'], axis = 1)\n",
        "\n",
        "train.head()"
      ],
      "execution_count": 62,
      "outputs": [
        {
          "output_type": "execute_result",
          "data": {
            "text/html": [
              "<div>\n",
              "<style scoped>\n",
              "    .dataframe tbody tr th:only-of-type {\n",
              "        vertical-align: middle;\n",
              "    }\n",
              "\n",
              "    .dataframe tbody tr th {\n",
              "        vertical-align: top;\n",
              "    }\n",
              "\n",
              "    .dataframe thead th {\n",
              "        text-align: right;\n",
              "    }\n",
              "</style>\n",
              "<table border=\"1\" class=\"dataframe\">\n",
              "  <thead>\n",
              "    <tr style=\"text-align: right;\">\n",
              "      <th></th>\n",
              "      <th>age</th>\n",
              "      <th>workclass</th>\n",
              "      <th>education.num</th>\n",
              "      <th>marital.status</th>\n",
              "      <th>occupation</th>\n",
              "      <th>relationship</th>\n",
              "      <th>race</th>\n",
              "      <th>sex</th>\n",
              "      <th>capital.gain</th>\n",
              "      <th>capital.loss</th>\n",
              "      <th>hours.per.week</th>\n",
              "      <th>income</th>\n",
              "    </tr>\n",
              "  </thead>\n",
              "  <tbody>\n",
              "    <tr>\n",
              "      <th>0</th>\n",
              "      <td>90</td>\n",
              "      <td>NaN</td>\n",
              "      <td>9</td>\n",
              "      <td>Widowed</td>\n",
              "      <td>NaN</td>\n",
              "      <td>Not-in-family</td>\n",
              "      <td>White</td>\n",
              "      <td>Female</td>\n",
              "      <td>0</td>\n",
              "      <td>4356</td>\n",
              "      <td>40</td>\n",
              "      <td>0</td>\n",
              "    </tr>\n",
              "    <tr>\n",
              "      <th>1</th>\n",
              "      <td>82</td>\n",
              "      <td>Private</td>\n",
              "      <td>9</td>\n",
              "      <td>Widowed</td>\n",
              "      <td>Exec-managerial</td>\n",
              "      <td>Not-in-family</td>\n",
              "      <td>White</td>\n",
              "      <td>Female</td>\n",
              "      <td>0</td>\n",
              "      <td>4356</td>\n",
              "      <td>18</td>\n",
              "      <td>0</td>\n",
              "    </tr>\n",
              "    <tr>\n",
              "      <th>2</th>\n",
              "      <td>66</td>\n",
              "      <td>NaN</td>\n",
              "      <td>10</td>\n",
              "      <td>Widowed</td>\n",
              "      <td>NaN</td>\n",
              "      <td>Unmarried</td>\n",
              "      <td>Black</td>\n",
              "      <td>Female</td>\n",
              "      <td>0</td>\n",
              "      <td>4356</td>\n",
              "      <td>40</td>\n",
              "      <td>0</td>\n",
              "    </tr>\n",
              "    <tr>\n",
              "      <th>3</th>\n",
              "      <td>54</td>\n",
              "      <td>Private</td>\n",
              "      <td>4</td>\n",
              "      <td>Divorced</td>\n",
              "      <td>Machine-op-inspct</td>\n",
              "      <td>Unmarried</td>\n",
              "      <td>White</td>\n",
              "      <td>Female</td>\n",
              "      <td>0</td>\n",
              "      <td>3900</td>\n",
              "      <td>40</td>\n",
              "      <td>0</td>\n",
              "    </tr>\n",
              "    <tr>\n",
              "      <th>4</th>\n",
              "      <td>41</td>\n",
              "      <td>Private</td>\n",
              "      <td>10</td>\n",
              "      <td>Separated</td>\n",
              "      <td>Prof-specialty</td>\n",
              "      <td>Own-child</td>\n",
              "      <td>White</td>\n",
              "      <td>Female</td>\n",
              "      <td>0</td>\n",
              "      <td>3900</td>\n",
              "      <td>40</td>\n",
              "      <td>0</td>\n",
              "    </tr>\n",
              "  </tbody>\n",
              "</table>\n",
              "</div>"
            ],
            "text/plain": [
              "   age workclass  education.num  ... capital.loss hours.per.week income\n",
              "0   90       NaN              9  ...         4356             40      0\n",
              "1   82   Private              9  ...         4356             18      0\n",
              "2   66       NaN             10  ...         4356             40      0\n",
              "3   54   Private              4  ...         3900             40      0\n",
              "4   41   Private             10  ...         3900             40      0\n",
              "\n",
              "[5 rows x 12 columns]"
            ]
          },
          "metadata": {
            "tags": []
          },
          "execution_count": 62
        }
      ]
    },
    {
      "cell_type": "code",
      "metadata": {
        "jupyter": {
          "outputs_hidden": false
        },
        "pycharm": {
          "name": "#%%\n"
        },
        "colab": {
          "base_uri": "https://localhost:8080/",
          "height": 0
        },
        "id": "NfsX9r0BaB42",
        "outputId": "9d558c08-5b41-4171-ee88-fea8bee20011"
      },
      "source": [
        "#Verificação se tem dados vazios.\n",
        "train.isnull().sum()"
      ],
      "execution_count": 63,
      "outputs": [
        {
          "output_type": "execute_result",
          "data": {
            "text/plain": [
              "age                  0\n",
              "workclass         1836\n",
              "education.num        0\n",
              "marital.status       0\n",
              "occupation        1843\n",
              "relationship         0\n",
              "race                 0\n",
              "sex                  0\n",
              "capital.gain         0\n",
              "capital.loss         0\n",
              "hours.per.week       0\n",
              "income               0\n",
              "dtype: int64"
            ]
          },
          "metadata": {
            "tags": []
          },
          "execution_count": 63
        }
      ]
    },
    {
      "cell_type": "code",
      "metadata": {
        "id": "PsswDOplaB43"
      },
      "source": [
        "#divisão entre o target e as outras variáveis\n",
        "target = train.pop('income')\n",
        "atributos = train"
      ],
      "execution_count": 64,
      "outputs": []
    },
    {
      "cell_type": "code",
      "metadata": {
        "id": "rMD_z4hIaB43"
      },
      "source": [
        "#X_train, X_valid, Y_train, Y_valid = train_test_split(x, y, test_size=0.25, random_state=42)\n",
        "X_train = atributos\n",
        "Y_train = target"
      ],
      "execution_count": 65,
      "outputs": []
    },
    {
      "cell_type": "code",
      "metadata": {
        "colab": {
          "base_uri": "https://localhost:8080/",
          "height": 0
        },
        "id": "j--GjY0haB43",
        "outputId": "d27e6560-1bb7-4135-f9ea-abdf0edab34f"
      },
      "source": [
        "# Seleciona as variáveis numéricas\n",
        "numerical_cols = list(X_train.select_dtypes(include=[np.number]).columns.values)\n",
        "\n",
        "# Remove as variáveis numéricas esparsas\n",
        "numerical_cols.remove('capital.gain')\n",
        "numerical_cols.remove('capital.loss')\n",
        "\n",
        "# Seleciona as variáveis numéricas esparsas\n",
        "sparse_cols = ['capital.gain', 'capital.loss']\n",
        "\n",
        "# Seleciona as variáveis categóricas\n",
        "categorical_cols = list(X_train.select_dtypes(exclude=[np.number]).columns.values)\n",
        "\n",
        "# Mostrando as diferentes seleções\n",
        "print(\"Colunas numéricas: \", numerical_cols)\n",
        "print(\"Colunas esparsas: \", sparse_cols)\n",
        "print(\"Colunas categóricas: \", categorical_cols)\n"
      ],
      "execution_count": 66,
      "outputs": [
        {
          "output_type": "stream",
          "text": [
            "Colunas numéricas:  ['age', 'education.num', 'hours.per.week']\n",
            "Colunas esparsas:  ['capital.gain', 'capital.loss']\n",
            "Colunas categóricas:  ['workclass', 'marital.status', 'occupation', 'relationship', 'race', 'sex']\n"
          ],
          "name": "stdout"
        }
      ]
    },
    {
      "cell_type": "code",
      "metadata": {
        "id": "BsOjrrsraB43"
      },
      "source": [
        "from sklearn.impute import SimpleImputer\n",
        "from sklearn.preprocessing import OneHotEncoder\n",
        "from sklearn.pipeline import Pipeline\n",
        "\n",
        "# Cria a nossa pipeline categórica\n",
        "categorical_pipeline = Pipeline(steps = [\n",
        "    ('imputer', SimpleImputer(strategy = 'most_frequent')),\n",
        "    ('onehot', OneHotEncoder(drop='if_binary'))\n",
        "])\n",
        "\n",
        "\n",
        "from sklearn.impute import KNNImputer\n",
        "from sklearn.preprocessing import StandardScaler\n",
        "# Cria a nossa pipeline numérica\n",
        "numerical_pipeline = Pipeline(steps = [\n",
        "    ('imputer', KNNImputer(n_neighbors=10, weights=\"uniform\")),\n",
        "    ('scaler', StandardScaler())\n",
        "])\n",
        "\n",
        "from sklearn.preprocessing import RobustScaler\n",
        "\n",
        "sparse_pipeline = Pipeline(steps = [\n",
        "    ('imputer', KNNImputer(n_neighbors=10, weights=\"uniform\")),\n",
        "    ('scaler', RobustScaler())\n",
        "])\n",
        "\n",
        "\n",
        "from sklearn.compose import ColumnTransformer\n",
        "\n",
        "# Cria o nosso Pré-Processador\n",
        "\n",
        "# Cada pipeline está associada a suas respectivas colunas no datast\n",
        "preprocessor = ColumnTransformer(transformers = [\n",
        "    ('num', numerical_pipeline, numerical_cols),\n",
        "    ('spr', sparse_pipeline, sparse_cols),\n",
        "    ('cat', categorical_pipeline, categorical_cols)\n",
        "])"
      ],
      "execution_count": 67,
      "outputs": []
    },
    {
      "cell_type": "code",
      "metadata": {
        "colab": {
          "base_uri": "https://localhost:8080/",
          "height": 0
        },
        "id": "iB1ifMYJaB44",
        "outputId": "7d44b541-4d36-43d0-fcf3-1730b6f7fae1"
      },
      "source": [
        "X_train = preprocessor.fit_transform(X_train)\n",
        "X_train"
      ],
      "execution_count": 68,
      "outputs": [
        {
          "output_type": "execute_result",
          "data": {
            "text/plain": [
              "<32537x46 sparse matrix of type '<class 'numpy.float64'>'\n",
              "\twith 286302 stored elements in Compressed Sparse Row format>"
            ]
          },
          "metadata": {
            "tags": []
          },
          "execution_count": 68
        }
      ]
    },
    {
      "cell_type": "code",
      "metadata": {
        "id": "6HRKH708aB44"
      },
      "source": [
        "X_train,X_test,y_train,y_test = train_test_split(X_train,Y_train ,test_size =0.2,random_state = 42)"
      ],
      "execution_count": 69,
      "outputs": []
    },
    {
      "cell_type": "markdown",
      "metadata": {
        "id": "aR3ReDeAcOFz"
      },
      "source": [
        "# Modelos"
      ]
    },
    {
      "cell_type": "code",
      "metadata": {
        "colab": {
          "base_uri": "https://localhost:8080/",
          "height": 0
        },
        "id": "M3ZUKVorgbWI",
        "outputId": "270acac1-0c5c-4230-f7ea-88a20c50c563"
      },
      "source": [
        "!pip install scikit-optimize"
      ],
      "execution_count": 37,
      "outputs": [
        {
          "output_type": "stream",
          "text": [
            "Collecting scikit-optimize\n",
            "\u001b[?25l  Downloading https://files.pythonhosted.org/packages/8b/03/be33e89f55866065a02e515c5b319304a801a9f1027a9b311a9b1d1f8dc7/scikit_optimize-0.8.1-py2.py3-none-any.whl (101kB)\n",
            "\r\u001b[K     |███▎                            | 10kB 13.1MB/s eta 0:00:01\r\u001b[K     |██████▌                         | 20kB 9.3MB/s eta 0:00:01\r\u001b[K     |█████████▊                      | 30kB 7.9MB/s eta 0:00:01\r\u001b[K     |█████████████                   | 40kB 7.2MB/s eta 0:00:01\r\u001b[K     |████████████████▏               | 51kB 4.0MB/s eta 0:00:01\r\u001b[K     |███████████████████▍            | 61kB 4.3MB/s eta 0:00:01\r\u001b[K     |██████████████████████▊         | 71kB 4.6MB/s eta 0:00:01\r\u001b[K     |██████████████████████████      | 81kB 5.2MB/s eta 0:00:01\r\u001b[K     |█████████████████████████████▏  | 92kB 3.8MB/s eta 0:00:01\r\u001b[K     |████████████████████████████████| 102kB 3.1MB/s \n",
            "\u001b[?25hRequirement already satisfied: numpy>=1.13.3 in /usr/local/lib/python3.7/dist-packages (from scikit-optimize) (1.19.5)\n",
            "Requirement already satisfied: scikit-learn>=0.20.0 in /usr/local/lib/python3.7/dist-packages (from scikit-optimize) (0.23.0)\n",
            "Requirement already satisfied: joblib>=0.11 in /usr/local/lib/python3.7/dist-packages (from scikit-optimize) (1.0.1)\n",
            "Requirement already satisfied: scipy>=0.19.1 in /usr/local/lib/python3.7/dist-packages (from scikit-optimize) (1.4.1)\n",
            "Collecting pyaml>=16.9\n",
            "  Downloading https://files.pythonhosted.org/packages/15/c4/1310a054d33abc318426a956e7d6df0df76a6ddfa9c66f6310274fb75d42/pyaml-20.4.0-py2.py3-none-any.whl\n",
            "Requirement already satisfied: threadpoolctl>=2.0.0 in /usr/local/lib/python3.7/dist-packages (from scikit-learn>=0.20.0->scikit-optimize) (2.1.0)\n",
            "Requirement already satisfied: PyYAML in /usr/local/lib/python3.7/dist-packages (from pyaml>=16.9->scikit-optimize) (3.13)\n",
            "Installing collected packages: pyaml, scikit-optimize\n",
            "Successfully installed pyaml-20.4.0 scikit-optimize-0.8.1\n"
          ],
          "name": "stdout"
        }
      ]
    },
    {
      "cell_type": "code",
      "metadata": {
        "id": "2gFO5leDh8j8"
      },
      "source": [
        "# Importa o Bayes Search:\n",
        "from skopt import BayesSearchCV\n",
        "\n",
        "# Importa o espaço de busca inteiro\n",
        "from skopt.space import Integer, Real"
      ],
      "execution_count": 42,
      "outputs": []
    },
    {
      "cell_type": "markdown",
      "metadata": {
        "id": "RN2TmpvKcVnH"
      },
      "source": [
        "## Support Vector Classifier"
      ]
    },
    {
      "cell_type": "code",
      "metadata": {
        "id": "TDDOEWqzcJ22"
      },
      "source": [
        "from sklearn.svm import SVC\n",
        "\n",
        "# Instancia nosso classificador\n",
        "svc = SVC(random_state=42, probability=True)"
      ],
      "execution_count": 33,
      "outputs": []
    },
    {
      "cell_type": "code",
      "metadata": {
        "colab": {
          "base_uri": "https://localhost:8080/",
          "height": 0
        },
        "id": "gYWfLi8Ua_-I",
        "outputId": "ef612605-68b2-43ec-ac4d-5740565871b9"
      },
      "source": [
        "from sklearn.model_selection import cross_val_score\n",
        "\n",
        "score = cross_val_score(svc, X_train, y_train, cv = 4, scoring=\"accuracy\")\n",
        "print(\"Acurácia com cross validation:\", score.mean())"
      ],
      "execution_count": 45,
      "outputs": [
        {
          "output_type": "stream",
          "text": [
            "Acurácia com cross validation: 0.8013368646351162\n"
          ],
          "name": "stdout"
        }
      ]
    },
    {
      "cell_type": "code",
      "metadata": {
        "colab": {
          "base_uri": "https://localhost:8080/",
          "height": 0
        },
        "id": "ezr99fFQbAbA",
        "outputId": "16498259-3cce-44f6-c603-e4f88d9f022f"
      },
      "source": [
        "# Importa o Bayes Search:\n",
        "from skopt import BayesSearchCV\n",
        "\n",
        "# Importa o espaço de busca inteiro\n",
        "from skopt.space import Integer, Real\n",
        "\n",
        "# Cria o Bayes Search:\n",
        "svc_search_cv = BayesSearchCV(estimator = svc,\n",
        "                              search_spaces = {'C': Real(1e-2, 20),\n",
        "                                               'gamma': ['scale', 'auto'],},\n",
        "                              cv = 2,\n",
        "                              n_iter = 15, n_jobs=-1, random_state=42)\n",
        "\n",
        "# Realizando a otimização por BayesSearch:\n",
        "%timeit -n 1 -r 1 svc_search_cv.fit(X_train, y_train)\n",
        "\n",
        "print('Melhores hiperparâmetros: {}'.format(svc_search_cv.best_params_))\n",
        "print('Desempenho do melhor modelo: {}'.format(round(svc_search_cv.best_score_,5)))"
      ],
      "execution_count": 47,
      "outputs": [
        {
          "output_type": "stream",
          "text": [
            "1 loop, best of 1: 15min 46s per loop\n",
            "Melhores hiperparâmetros: OrderedDict([('C', 16.249795807263695), ('gamma', 'auto')])\n",
            "Desempenho do melhor modelo: 0.8708\n"
          ],
          "name": "stdout"
        }
      ]
    },
    {
      "cell_type": "markdown",
      "metadata": {
        "id": "0k88b-XggsQg"
      },
      "source": [
        "## Extreme Gradient Boosting"
      ]
    },
    {
      "cell_type": "code",
      "metadata": {
        "id": "jxKPeAcbbAi5"
      },
      "source": [
        "from xgboost import XGBClassifier\n",
        "\n",
        "# Instancia nosso classificador\n",
        "xgb = XGBClassifier(random_state=42)"
      ],
      "execution_count": 40,
      "outputs": []
    },
    {
      "cell_type": "markdown",
      "metadata": {
        "id": "e7xN9IGYhxVe"
      },
      "source": [
        "Otimizando os hiperparâmetros"
      ]
    },
    {
      "cell_type": "code",
      "metadata": {
        "colab": {
          "base_uri": "https://localhost:8080/",
          "height": 0
        },
        "id": "9DmVX7BEgpv6",
        "outputId": "bbcb2f38-bf8a-44e6-adbb-4fe7c16b1c5b"
      },
      "source": [
        "# Cria o Bayes Search:\n",
        "xgb_search_cv = BayesSearchCV(estimator = xgb,\n",
        "                              search_spaces = {'n_estimators': Integer(10, 500),\n",
        "                                               'learning_rate': Real(1e-3, 1),\n",
        "                                               'max_depth': Integer(1, 20),\n",
        "                                               'reg_alpha': Real(1e-14, 1e1, prior = 'log-uniform'),\n",
        "                                               'reg_lambda': Real(1e-14, 1e1, prior = 'log-uniform'),},\n",
        "                              cv = 5,\n",
        "                              n_iter = 75, n_jobs=-1, random_state=42)\n",
        "\n",
        "# Realizando a otimização por BayesSearch:\n",
        "%timeit -n 1 -r 1 xgb_search_cv.fit(X_train, y_train)\n",
        "\n",
        "print('Melhores hiperparâmetros: {}'.format(xgb_search_cv.best_params_))\n",
        "print('Desempenho do melhor modelo: {}'.format(round(xgb_search_cv.best_score_,5)))"
      ],
      "execution_count": 44,
      "outputs": [
        {
          "output_type": "stream",
          "text": [
            "1 loop, best of 1: 26min 12s per loop\n",
            "Melhores hiperparâmetros: OrderedDict([('learning_rate', 0.6071909555196144), ('max_depth', 2), ('n_estimators', 221), ('reg_alpha', 0.0022418153575109808), ('reg_lambda', 1.0709027891369826e-05)])\n",
            "Desempenho do melhor modelo: 0.87341\n"
          ],
          "name": "stdout"
        }
      ]
    },
    {
      "cell_type": "markdown",
      "metadata": {
        "id": "DDLQcamqhJG5"
      },
      "source": [
        "## Logistic Regression"
      ]
    },
    {
      "cell_type": "code",
      "metadata": {
        "colab": {
          "base_uri": "https://localhost:8080/",
          "height": 0
        },
        "id": "dvQx0uJXaB46",
        "outputId": "ea2aa2ee-e8c5-4c3c-ca04-0ae39344ba40"
      },
      "source": [
        "%%time\n",
        "import warnings\n",
        "warnings.filterwarnings(\"ignore\")\n",
        "from sklearn.model_selection import GridSearchCV\n",
        "lr = LogisticRegression(class_weight='balanced',random_state=42)\n",
        "param_grid = { \n",
        "    'C': [0.1,0.2,0.3,0.4],\n",
        "    'penalty': ['l1', 'l2'],\n",
        "    'class_weight':[{0: 1, 1: 1},{ 0:0.67, 1:0.33 },{ 0:0.75, 1:0.25 },{ 0:0.8, 1:0.2 }]}\n",
        "CV_rfc = GridSearchCV(estimator=lr, param_grid=param_grid, cv= 5)\n",
        "CV_rfc.fit(X_train, y_train)\n",
        "print(CV_rfc.best_params_)"
      ],
      "execution_count": 29,
      "outputs": [
        {
          "output_type": "stream",
          "text": [
            "{'C': 0.2, 'class_weight': {0: 1, 1: 1}, 'penalty': 'l2'}\n",
            "CPU times: user 24.9 s, sys: 32.7 ms, total: 24.9 s\n",
            "Wall time: 24.9 s\n"
          ],
          "name": "stdout"
        }
      ]
    },
    {
      "cell_type": "markdown",
      "metadata": {
        "id": "5QrE5JtYhYn2"
      },
      "source": [
        "## KNN"
      ]
    },
    {
      "cell_type": "code",
      "metadata": {
        "id": "4qHjvYMbaB45"
      },
      "source": [
        "from sklearn.neighbors import KNeighborsClassifier\n",
        "\n",
        "# Instancia nosso classificador\n",
        "knn = KNeighborsClassifier(n_neighbors=20)"
      ],
      "execution_count": 38,
      "outputs": []
    },
    {
      "cell_type": "code",
      "metadata": {
        "colab": {
          "base_uri": "https://localhost:8080/",
          "height": 0
        },
        "id": "zktjYKrPaB45",
        "outputId": "ad991aad-68bd-489e-88c9-d0f210dd591b"
      },
      "source": [
        "from sklearn.model_selection import cross_val_score\n",
        "\n",
        "score = cross_val_score(knn, X_train, y_train, cv = 5, scoring=\"accuracy\")\n",
        "print(\"Acurácia com cross validation:\", score.mean())"
      ],
      "execution_count": 39,
      "outputs": [
        {
          "output_type": "stream",
          "text": [
            "Acurácia com cross validation: 0.8661491672765076\n"
          ],
          "name": "stdout"
        }
      ]
    },
    {
      "cell_type": "code",
      "metadata": {
        "jupyter": {
          "outputs_hidden": false
        },
        "pycharm": {
          "name": "#%%\n"
        },
        "colab": {
          "base_uri": "https://localhost:8080/",
          "height": 0
        },
        "id": "UZ6_KEcTaB45",
        "outputId": "0bfab529-c5b0-47de-b600-48f1cda7abcf"
      },
      "source": [
        "# Importa o Bayes Search:\n",
        "from skopt import BayesSearchCV\n",
        "\n",
        "from sklearn.model_selection import ShuffleSplit\n",
        "\n",
        "# Importa o espaço de busca inteiro\n",
        "from skopt.space import Integer\n",
        "\n",
        "cv = ShuffleSplit(n_splits=5, test_size=0.2, random_state=42)\n",
        "\n",
        "\n",
        "# Cria o Bayes Search:\n",
        "bayes_search_cv = BayesSearchCV(estimator = KNeighborsClassifier(),\n",
        "                              search_spaces = {'n_neighbors': Integer(10, 50),}, # Vizinhos de 10 a 50\n",
        "                              cv = cv,\n",
        "                              n_iter = 12, random_state=42)\n",
        "\n",
        "# Realizando a otimização por BayesSearch:\n",
        "%timeit -n 1 -r 1 bayes_search_cv.fit(X_train, y_train)\n",
        "\n",
        "best_param = bayes_search_cv.best_params_['n_neighbors']\n",
        "\n",
        "print('Melhor quantidade de vizinhos: {}'.format(bayes_search_cv.best_params_['n_neighbors']))\n",
        "print('Desempenho do melhor modelo: {}'.format(round(bayes_search_cv.best_score_,5)))"
      ],
      "execution_count": 70,
      "outputs": [
        {
          "output_type": "stream",
          "text": [
            "1 loop, best of 1: 4min 14s per loop\n",
            "Melhor quantidade de vizinhos: 26\n",
            "Desempenho do melhor modelo: 0.86412\n"
          ],
          "name": "stdout"
        }
      ]
    },
    {
      "cell_type": "markdown",
      "metadata": {
        "id": "ISTeD3R1aB46"
      },
      "source": [
        "## Random Forrest Classifier"
      ]
    },
    {
      "cell_type": "code",
      "metadata": {
        "id": "mmVynXFzaB46"
      },
      "source": [
        "from sklearn.ensemble import RandomForestClassifier\n",
        "\n",
        "# Instancia nosso classificador\n",
        "rfc = RandomForestClassifier(random_state=42)"
      ],
      "execution_count": 71,
      "outputs": []
    },
    {
      "cell_type": "code",
      "metadata": {
        "colab": {
          "base_uri": "https://localhost:8080/",
          "height": 0
        },
        "id": "l4ber4eZaB47",
        "outputId": "d3a5bf54-8572-47ba-ef59-2da16917ecc1"
      },
      "source": [
        "# Cria o Bayes Search:\n",
        "rfc_search_cv = BayesSearchCV(estimator = rfc,\n",
        "                              search_spaces = {'n_estimators': Integer(100, 500),\n",
        "                                               'criterion': ['gini', 'entropy'],\n",
        "                                               'max_depth': Integer(1, 50),},\n",
        "                              cv = 5,\n",
        "                              n_iter = 20, n_jobs=-1, random_state=42)\n",
        "\n",
        "# Realizando a otimização por BayesSearch:\n",
        "%timeit -n 1 -r 1 rfc_search_cv.fit(X_train, y_train)\n",
        "\n",
        "print('Melhores hiperparâmetros: {}'.format(rfc_search_cv.best_params_))\n",
        "print('Desempenho do melhor modelo: {}'.format(round(rfc_search_cv.best_score_,5)))"
      ],
      "execution_count": 72,
      "outputs": [
        {
          "output_type": "stream",
          "text": [
            "1 loop, best of 1: 37min 57s per loop\n",
            "Melhores hiperparâmetros: OrderedDict([('criterion', 'entropy'), ('max_depth', 17), ('n_estimators', 500)])\n",
            "Desempenho do melhor modelo: 0.86315\n"
          ],
          "name": "stdout"
        }
      ]
    },
    {
      "cell_type": "markdown",
      "metadata": {
        "id": "ZZCc20iqaB47"
      },
      "source": [
        "## Multilayer Perceptron"
      ]
    },
    {
      "cell_type": "code",
      "metadata": {
        "id": "IpiLkWEhaB47"
      },
      "source": [
        "from sklearn.neural_network import MLPClassifier\n",
        "\n",
        "# Instancia nosso classificador\n",
        "mlp = MLPClassifier(random_state=42, early_stopping=True)"
      ],
      "execution_count": 78,
      "outputs": []
    },
    {
      "cell_type": "code",
      "metadata": {
        "colab": {
          "base_uri": "https://localhost:8080/",
          "height": 0
        },
        "id": "fyBtbeViaB47",
        "outputId": "6b403762-4353-485c-e492-5789004747e6"
      },
      "source": [
        "from scipy.stats import loguniform as sp_loguniform\n",
        "from sklearn.model_selection import RandomizedSearchCV\n",
        "\n",
        "# Hiperparâmetros a serem otimizados\n",
        "hyperparams = {'hidden_layer_sizes': [(2 ** i, 2 ** j) for j in np.arange(5, 8) for i in np.arange(4, 7)],\n",
        "               'alpha': sp_loguniform(1e-10, 1e-1),\n",
        "               'learning_rate': ['constant','adaptive']}\n",
        "\n",
        "# Busca de Hiperparâmetros\n",
        "mlp_search_cv = RandomizedSearchCV(mlp, hyperparams, scoring='accuracy', n_iter=25, cv=3, n_jobs=-1, random_state=42)\n",
        "%timeit -n 1 -r 1 mlp_search_cv.fit(X_train, y_train)\n",
        "\n",
        "print('Melhores hiperparâmetros: {}'.format(mlp_search_cv.best_params_))\n",
        "print('Desempenho do melhor modelo: {}'.format(round(mlp_search_cv.best_score_,5)))"
      ],
      "execution_count": 79,
      "outputs": [
        {
          "output_type": "stream",
          "text": [
            "1 loop, best of 1: 4min 36s per loop\n",
            "Melhores hiperparâmetros: {'alpha': 0.00014391207615728076, 'hidden_layer_sizes': (16, 128), 'learning_rate': 'adaptive'}\n",
            "Desempenho do melhor modelo: 0.85701\n"
          ],
          "name": "stdout"
        }
      ]
    },
    {
      "cell_type": "markdown",
      "metadata": {
        "id": "nRCJOW4IaB48"
      },
      "source": [
        "# Comparação dos Modelos"
      ]
    },
    {
      "cell_type": "code",
      "metadata": {
        "id": "UM6JJaGRd8i2"
      },
      "source": [
        "from sklearn.metrics import roc_auc_score\n",
        "from sklearn.metrics import accuracy_score"
      ],
      "execution_count": 31,
      "outputs": []
    },
    {
      "cell_type": "markdown",
      "metadata": {
        "id": "coCZHn05w3H7"
      },
      "source": [
        "## SVC"
      ]
    },
    {
      "cell_type": "code",
      "metadata": {
        "colab": {
          "base_uri": "https://localhost:8080/",
          "height": 0
        },
        "id": "16ExBfs7w1pJ",
        "outputId": "acf77b48-3442-4baa-e52f-cc9f4872af75"
      },
      "source": [
        "# Calculando a AUC da Support Vector Machine\n",
        "svc_roc_auc = roc_auc_score(y_test, svc_search_cv.predict_proba(X_test)[:,1])\n",
        "\n",
        "# Calculando a acurácia da Support Vector Machine\n",
        "svc_acc = accuracy_score(y_test, svc_search_cv.predict(X_test))\n",
        "\n",
        "print('AUC -------- KNN: {:.4f}'.format(svc_roc_auc))\n",
        "print('Acurácia --- KNN: {:.4f}'.format(svc_acc))"
      ],
      "execution_count": 48,
      "outputs": [
        {
          "output_type": "stream",
          "text": [
            "AUC -------- KNN: 0.9056\n",
            "Acurácia --- KNN: 0.8746\n"
          ],
          "name": "stdout"
        }
      ]
    },
    {
      "cell_type": "markdown",
      "metadata": {
        "id": "NMg9eVmBw7pP"
      },
      "source": [
        "## Extreme Gradient Boosting"
      ]
    },
    {
      "cell_type": "code",
      "metadata": {
        "colab": {
          "base_uri": "https://localhost:8080/",
          "height": 0
        },
        "id": "gwYSYU8_w7C0",
        "outputId": "ddd7d52e-2f1c-46b5-d843-28dd11846208"
      },
      "source": [
        "# Calculando a AUC do Extreme Gradient Boosting\n",
        "xgb_roc_auc = roc_auc_score(y_test, xgb_search_cv.predict_proba(X_test)[:,1])\n",
        "\n",
        "# Calculando a acurácia do Extreme Gradient Boosting\n",
        "xgb_acc = accuracy_score(y_test, xgb_search_cv.predict(X_test))\n",
        "\n",
        "print('AUC -------- KNN: {:.4f}'.format(xgb_roc_auc))\n",
        "print('Acurácia --- KNN: {:.4f}'.format(xgb_acc))"
      ],
      "execution_count": 50,
      "outputs": [
        {
          "output_type": "stream",
          "text": [
            "AUC -------- KNN: 0.9274\n",
            "Acurácia --- KNN: 0.8734\n"
          ],
          "name": "stdout"
        }
      ]
    },
    {
      "cell_type": "markdown",
      "metadata": {
        "id": "JFfCmCiOd30Z"
      },
      "source": [
        "## Logistic Regression"
      ]
    },
    {
      "cell_type": "code",
      "metadata": {
        "colab": {
          "base_uri": "https://localhost:8080/",
          "height": 0
        },
        "id": "IMB3cCw6d20-",
        "outputId": "bc4f77cc-5260-4268-efbe-b2b96ba43b8d"
      },
      "source": [
        "# Calculando a AUC do Logistic Regression\n",
        "lr_roc_auc = roc_auc_score(y_test, CV_rfc.predict_proba(X_test)[:,1])\n",
        "\n",
        "# Calculando a acurácia do Logistic Regression\n",
        "lr_acc = accuracy_score(y_test, CV_rfc.predict(X_test))\n",
        "\n",
        "print('AUC -------- KNN: {:.4f}'.format(lr_roc_auc))\n",
        "print('Acurácia --- KNN: {:.4f}'.format(lr_acc))"
      ],
      "execution_count": 32,
      "outputs": [
        {
          "output_type": "stream",
          "text": [
            "AUC -------- KNN: 0.8974\n",
            "Acurácia --- KNN: 0.8482\n"
          ],
          "name": "stdout"
        }
      ]
    },
    {
      "cell_type": "markdown",
      "metadata": {
        "id": "mxyCkqtfaB48"
      },
      "source": [
        "## Classificador KNN"
      ]
    },
    {
      "cell_type": "code",
      "metadata": {
        "colab": {
          "base_uri": "https://localhost:8080/",
          "height": 0
        },
        "id": "MaVAyAR1aB48",
        "outputId": "ca38cd4f-7c03-4edf-bc7d-e369e85bf797"
      },
      "source": [
        "# Calculando a AUC do KNN\n",
        "knn_roc_auc = roc_auc_score(y_test, bayes_search_cv.predict_proba(X_test)[:,1])\n",
        "\n",
        "# Calculando a acurácia do KNN\n",
        "knn_acc = accuracy_score(y_test, bayes_search_cv.predict(X_test))\n",
        "\n",
        "print('AUC -------- KNN: {:.4f}'.format(knn_roc_auc))\n",
        "print('Acurácia --- KNN: {:.4f}'.format(knn_acc))"
      ],
      "execution_count": 80,
      "outputs": [
        {
          "output_type": "stream",
          "text": [
            "AUC -------- KNN: 0.9219\n",
            "Acurácia --- KNN: 0.8737\n"
          ],
          "name": "stdout"
        }
      ]
    },
    {
      "cell_type": "code",
      "metadata": {
        "id": "CgctsE7AaB48"
      },
      "source": [
        "import matplotlib.pyplot as plt\n",
        "from sklearn.metrics import plot_roc_curve\n",
        "\n",
        "plot_roc_curve(bayes_search_cv, X_test, y_test)\n",
        "plt.show()"
      ],
      "execution_count": null,
      "outputs": []
    },
    {
      "cell_type": "markdown",
      "metadata": {
        "id": "MHWuxPpzRHNi"
      },
      "source": [
        "## Random Forest"
      ]
    },
    {
      "cell_type": "code",
      "metadata": {
        "colab": {
          "base_uri": "https://localhost:8080/",
          "height": 0
        },
        "id": "ltq3nCiiaB48",
        "outputId": "9622b8d5-df26-4bcf-a18b-478b388d22f5"
      },
      "source": [
        "# Calculando a AUC da Random Forrest\n",
        "rfc_roc_auc = roc_auc_score(y_test, rfc_search_cv.predict_proba(X_test)[:,1])\n",
        "\n",
        "# Calculando a acurácia da Random Forest\n",
        "rfc_acc = accuracy_score(y_test, rfc_search_cv.predict(X_test))\n",
        "\n",
        "print('AUC -------- Random Forest: {:.4f}'.format(rfc_roc_auc))\n",
        "print('Acurácia --- Random Forest: {:.4f}'.format(rfc_acc))"
      ],
      "execution_count": 87,
      "outputs": [
        {
          "output_type": "stream",
          "text": [
            "AUC -------- Random Forest: 0.9175\n",
            "Acurácia --- Random Forest: 0.8654\n"
          ],
          "name": "stdout"
        }
      ]
    },
    {
      "cell_type": "markdown",
      "metadata": {
        "id": "LJ2DJDxIRNnE"
      },
      "source": [
        "## Multilayer Perceptron"
      ]
    },
    {
      "cell_type": "code",
      "metadata": {
        "colab": {
          "base_uri": "https://localhost:8080/",
          "height": 0
        },
        "id": "1gwZKdGmaB49",
        "outputId": "9e0fa093-06fe-421f-e034-18f2dc1445af"
      },
      "source": [
        "# Calculando a AUC da Rede Neural\n",
        "mlp_roc_auc = roc_auc_score(y_test, mlp_search_cv.predict_proba(X_test)[:,1])\n",
        "\n",
        "# Calculando a acurácia da Rede Neural\n",
        "mlp_acc = accuracy_score(y_test, mlp_search_cv.predict(X_test))\n",
        "\n",
        "print('AUC -------- Rede Neural: {:.4f}'.format(mlp_roc_auc))\n",
        "print('Acurácia --- Rede Neural: {:.4f}'.format(mlp_acc))"
      ],
      "execution_count": 82,
      "outputs": [
        {
          "output_type": "stream",
          "text": [
            "AUC -------- Rede Neural: 0.9077\n",
            "Acurácia --- Rede Neural: 0.8542\n"
          ],
          "name": "stdout"
        }
      ]
    },
    {
      "cell_type": "markdown",
      "metadata": {
        "id": "0QkdqVfCRblu"
      },
      "source": [
        "# Relatórios dos Modelos"
      ]
    },
    {
      "cell_type": "code",
      "metadata": {
        "id": "nSMkRwSKaB49"
      },
      "source": [
        "from sklearn.metrics import classification_report"
      ],
      "execution_count": 73,
      "outputs": []
    },
    {
      "cell_type": "markdown",
      "metadata": {
        "id": "PA8l4VaFRyNv"
      },
      "source": [
        "## SVC "
      ]
    },
    {
      "cell_type": "code",
      "metadata": {
        "colab": {
          "base_uri": "https://localhost:8080/",
          "height": 0
        },
        "id": "38ns73VS-yq7",
        "outputId": "e22bfb89-b7d1-4ec3-a46a-c8cc489e9656"
      },
      "source": [
        "print(classification_report(y_test, svc_pred)) #Support Vector Machine"
      ],
      "execution_count": 77,
      "outputs": [
        {
          "output_type": "stream",
          "text": [
            "              precision    recall  f1-score   support\n",
            "\n",
            "           0       0.90      0.95      0.92      4988\n",
            "           1       0.78      0.64      0.71      1520\n",
            "\n",
            "    accuracy                           0.87      6508\n",
            "   macro avg       0.84      0.79      0.81      6508\n",
            "weighted avg       0.87      0.87      0.87      6508\n",
            "\n"
          ],
          "name": "stdout"
        }
      ]
    },
    {
      "cell_type": "code",
      "metadata": {
        "id": "mxb2Nuu6aB49"
      },
      "source": [
        "knn_pred = bayes_search_cv.predict(X_test)\n",
        "rfc_pred = rfc_search_cv.predict(X_test)\n",
        "mlp_pred = mlp_search_cv.predict(X_test)"
      ],
      "execution_count": 83,
      "outputs": []
    },
    {
      "cell_type": "markdown",
      "metadata": {
        "id": "ftbWqjOFRr-0"
      },
      "source": [
        "## Extreme Gradient Boosting"
      ]
    },
    {
      "cell_type": "code",
      "metadata": {
        "id": "mOwS4JPr-Eys"
      },
      "source": [
        "xgb_pred = xgb_search_cv.predict(X_test)\n",
        "lf_pred = CV_rfc.predict(X_test)\n",
        "svc_pred = svc_search_cv.predict(X_test)"
      ],
      "execution_count": 74,
      "outputs": []
    },
    {
      "cell_type": "code",
      "metadata": {
        "colab": {
          "base_uri": "https://localhost:8080/",
          "height": 0
        },
        "id": "ThZYizII-lzp",
        "outputId": "fa83368f-2d9d-4a7c-c6d6-0f86bd11692b"
      },
      "source": [
        "print(classification_report(y_test, xgb_pred)) #XGBoosting"
      ],
      "execution_count": 75,
      "outputs": [
        {
          "output_type": "stream",
          "text": [
            "              precision    recall  f1-score   support\n",
            "\n",
            "           0       0.90      0.94      0.92      4988\n",
            "           1       0.76      0.66      0.71      1520\n",
            "\n",
            "    accuracy                           0.87      6508\n",
            "   macro avg       0.83      0.80      0.81      6508\n",
            "weighted avg       0.87      0.87      0.87      6508\n",
            "\n"
          ],
          "name": "stdout"
        }
      ]
    },
    {
      "cell_type": "markdown",
      "metadata": {
        "id": "J379bJrDRu_A"
      },
      "source": [
        "## Logistic Regression"
      ]
    },
    {
      "cell_type": "code",
      "metadata": {
        "colab": {
          "base_uri": "https://localhost:8080/",
          "height": 0
        },
        "id": "1m67Vb6X-rQJ",
        "outputId": "d9f8e155-dead-4cdc-ebb2-20d8b8c2e2d0"
      },
      "source": [
        "print(classification_report(y_test, lf_pred)) #Logistic Regression"
      ],
      "execution_count": 76,
      "outputs": [
        {
          "output_type": "stream",
          "text": [
            "              precision    recall  f1-score   support\n",
            "\n",
            "           0       0.88      0.92      0.90      4988\n",
            "           1       0.70      0.61      0.65      1520\n",
            "\n",
            "    accuracy                           0.85      6508\n",
            "   macro avg       0.79      0.76      0.78      6508\n",
            "weighted avg       0.84      0.85      0.84      6508\n",
            "\n"
          ],
          "name": "stdout"
        }
      ]
    },
    {
      "cell_type": "markdown",
      "metadata": {
        "id": "KbrS23xQRiof"
      },
      "source": [
        "## kNN"
      ]
    },
    {
      "cell_type": "code",
      "metadata": {
        "colab": {
          "base_uri": "https://localhost:8080/",
          "height": 0
        },
        "id": "LTaEC8HcaB49",
        "outputId": "ab06722b-f3df-4341-9427-aa5525f3fb7b"
      },
      "source": [
        "print(classification_report(y_test, knn_pred)) #kNN"
      ],
      "execution_count": 84,
      "outputs": [
        {
          "output_type": "stream",
          "text": [
            "              precision    recall  f1-score   support\n",
            "\n",
            "           0       0.90      0.94      0.92      4988\n",
            "           1       0.77      0.66      0.71      1520\n",
            "\n",
            "    accuracy                           0.87      6508\n",
            "   macro avg       0.83      0.80      0.81      6508\n",
            "weighted avg       0.87      0.87      0.87      6508\n",
            "\n"
          ],
          "name": "stdout"
        }
      ]
    },
    {
      "cell_type": "markdown",
      "metadata": {
        "id": "JRABKf3URkwB"
      },
      "source": [
        "## Random Forest"
      ]
    },
    {
      "cell_type": "code",
      "metadata": {
        "colab": {
          "base_uri": "https://localhost:8080/",
          "height": 0
        },
        "id": "u_45SjkVaB49",
        "outputId": "ce3fff6c-c765-4642-dc7b-0e32d871c278"
      },
      "source": [
        "print(classification_report(y_test, rfc_pred)) # Random Forest"
      ],
      "execution_count": 85,
      "outputs": [
        {
          "output_type": "stream",
          "text": [
            "              precision    recall  f1-score   support\n",
            "\n",
            "           0       0.89      0.95      0.92      4988\n",
            "           1       0.77      0.60      0.68      1520\n",
            "\n",
            "    accuracy                           0.87      6508\n",
            "   macro avg       0.83      0.77      0.80      6508\n",
            "weighted avg       0.86      0.87      0.86      6508\n",
            "\n"
          ],
          "name": "stdout"
        }
      ]
    },
    {
      "cell_type": "markdown",
      "metadata": {
        "id": "GG1nMJy_Ro2m"
      },
      "source": [
        "## Multilayer Perceptron"
      ]
    },
    {
      "cell_type": "code",
      "metadata": {
        "colab": {
          "base_uri": "https://localhost:8080/",
          "height": 0
        },
        "id": "ey1H2zS9aB49",
        "outputId": "ca287b03-9a15-4b5c-9ced-f53821701dc9"
      },
      "source": [
        "print(classification_report(y_test, mlp_pred)) #Multilayer Perceptron"
      ],
      "execution_count": 86,
      "outputs": [
        {
          "output_type": "stream",
          "text": [
            "              precision    recall  f1-score   support\n",
            "\n",
            "           0       0.90      0.91      0.91      4988\n",
            "           1       0.70      0.66      0.68      1520\n",
            "\n",
            "    accuracy                           0.85      6508\n",
            "   macro avg       0.80      0.79      0.79      6508\n",
            "weighted avg       0.85      0.85      0.85      6508\n",
            "\n"
          ],
          "name": "stdout"
        }
      ]
    }
  ]
}